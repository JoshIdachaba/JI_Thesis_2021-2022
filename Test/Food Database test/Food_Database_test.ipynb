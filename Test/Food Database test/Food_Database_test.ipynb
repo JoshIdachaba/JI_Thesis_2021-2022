{
 "cells": [
  {
   "cell_type": "markdown",
   "metadata": {},
   "source": [
    "# Tests involving parsing OpenFoodFacts and FoodData Central Databases\n",
    "\n",
    "Databases Used:\n",
    "\n",
    "OpenFoodFacts Product Database (2168141 rows x 191 columns)\n",
    "\n",
    "FoodDataCentral Branded Food Database (1555131 rows x 17 columns)"
   ]
  },
  {
   "cell_type": "code",
   "execution_count": null,
   "metadata": {},
   "outputs": [],
   "source": [
    "#Packages Used\n",
    "import pandas as pd\n",
    "import numpy as np\n",
    "import networkx as nx\n",
    "import matplotlib.pyplot as plt\n",
    "from nltk.tokenize import word_tokenize\n",
    "import readability"
   ]
  },
  {
   "cell_type": "code",
   "execution_count": null,
   "metadata": {},
   "outputs": [],
   "source": [
    "OpenFoodFacts = pd.read_csv(\"OpenFoodFacts/en.openfoodfacts.org.products.csv\", sep = \"\\t\")\n",
    "print(OpenFoodFacts)"
   ]
  },
  {
   "cell_type": "code",
   "execution_count": null,
   "metadata": {},
   "outputs": [],
   "source": [
    "FoodDataCentral = pd.read_csv(\"FoodData_Central_csv_2021-10-28/branded_food.csv\")\n",
    "print(FoodDataCentral)"
   ]
  },
  {
   "cell_type": "code",
   "execution_count": null,
   "metadata": {},
   "outputs": [],
   "source": [
    "OFF_head = OpenFoodFacts.head(500)\n"
   ]
  },
  {
   "cell_type": "code",
   "execution_count": null,
   "metadata": {},
   "outputs": [],
   "source": [
    "OFF_head.to_csv(\"OpenFoodFacts_Head_Demo.csv\")"
   ]
  },
  {
   "cell_type": "code",
   "execution_count": null,
   "metadata": {},
   "outputs": [],
   "source": [
    "FDC_head = FoodDataCentral.head(500)"
   ]
  },
  {
   "cell_type": "code",
   "execution_count": null,
   "metadata": {},
   "outputs": [],
   "source": [
    "FDC_head.to_csv(\"FoodDataCentral_Head_Demo.csv\")"
   ]
  },
  {
   "cell_type": "code",
   "execution_count": null,
   "metadata": {},
   "outputs": [],
   "source": [
    "OFF_US = OpenFoodFacts.query('countries_en == \"United States\"')\n",
    "print(OFF_US)"
   ]
  },
  {
   "cell_type": "code",
   "execution_count": null,
   "metadata": {},
   "outputs": [],
   "source": [
    "OFF_US_head = OFF_US.head(500)\n",
    "OFF_US_head.to_csv(\"OpenFoodFacts_Head_Demo.csv\")"
   ]
  },
  {
   "cell_type": "code",
   "execution_count": null,
   "metadata": {},
   "outputs": [],
   "source": [
    "OFF_US.fillna({'product_name':\"Unknown\"}, inplace=True)"
   ]
  },
  {
   "cell_type": "code",
   "execution_count": null,
   "metadata": {},
   "outputs": [],
   "source": [
    "#Get Readability Score\n",
    "for i in OFF_head['ingredients_text']:\n",
    "    #Check if NA/NaN\n",
    "    if not pd.isna(i):\n",
    "        print(readability.getmeasures(i)['readability grades']['Kincaid'])\n"
   ]
  },
  {
   "cell_type": "code",
   "execution_count": null,
   "metadata": {},
   "outputs": [],
   "source": [
    "#Get Readability Score\n",
    "readability_scores = []\n",
    "for index, row in OFF_head.iterrows():\n",
    "    if pd.isna(row[\"ingredients_text\"]) or row[\"ingredients_text\"] in ['🍎', \"...\"]:\n",
    "        curr_record = (row['product_name'], row['code'], pd.NA)\n",
    "        readability_scores.append(curr_record)\n",
    "        print([i for i in curr_record])\n",
    "    else:\n",
    "        curr_record = (row['product_name'], row['code'], readability.getmeasures(row[\"ingredients_text\"])['readability grades']['Kincaid'])\n",
    "        readability_scores.append(curr_record)\n",
    "        print([i for i in curr_record])\n",
    "\n",
    "readScores_df = pd.DataFrame(data = readability_scores, columns = [\"code\", \"product_name\", \"Kincaid_Score\"])\n",
    "print(readScores_df)\n",
    "    "
   ]
  },
  {
   "cell_type": "code",
   "execution_count": null,
   "metadata": {},
   "outputs": [],
   "source": [
    "#Get Readability Score- Open Food Facts (United States Foods)\n",
    "readability_scores = []\n",
    "for index, row in OFF_US.iterrows():\n",
    "    if pd.isna(row[\"ingredients_text\"]) or row[\"ingredients_text\"] in ['🍎', \"...\", \".\"]:\n",
    "        curr_record = (row['code'], row['product_name'], pd.NA)\n",
    "        readability_scores.append(curr_record)\n",
    "        \n",
    "    else:\n",
    "        print(row[\"ingredients_text\"])\n",
    "        curr_record = (row['code'], row['product_name'],readability.getmeasures(row[\"ingredients_text\"])['readability grades']['Kincaid'])\n",
    "        readability_scores.append(curr_record)\n",
    "\n",
    "readScores_df = pd.DataFrame(data = readability_scores, columns = [\"code\", \"product_name\", \"Kincaid_Score\"])\n",
    "print(readScores_df)\n",
    "readScores_df.to_csv(\"OpenFoodFacts_Readability.csv\", sep=\",\")"
   ]
  },
  {
   "cell_type": "code",
   "execution_count": null,
   "metadata": {},
   "outputs": [],
   "source": [
    "readScores_df.to_csv(\"OpenFoodFacts_Readability.csv\", sep=\",\")"
   ]
  },
  {
   "cell_type": "code",
   "execution_count": null,
   "metadata": {},
   "outputs": [],
   "source": [
    "OFF_US.query(\"ingredients_text == '🍎'\")"
   ]
  },
  {
   "cell_type": "code",
   "execution_count": null,
   "metadata": {},
   "outputs": [],
   "source": [
    "FoodDataCentral.query(\"ingredients == '---'\")"
   ]
  },
  {
   "cell_type": "code",
   "execution_count": null,
   "metadata": {},
   "outputs": [],
   "source": [
    "print(OFF_US['code'].isnull().values.any())\n",
    "print(OFF_US['code'].isnull().sum())"
   ]
  },
  {
   "cell_type": "code",
   "execution_count": null,
   "metadata": {},
   "outputs": [],
   "source": [
    "print(FDC_head)"
   ]
  },
  {
   "cell_type": "code",
   "execution_count": null,
   "metadata": {},
   "outputs": [],
   "source": [
    "print(OFF_US.columns.values)"
   ]
  },
  {
   "cell_type": "code",
   "execution_count": null,
   "metadata": {},
   "outputs": [],
   "source": [
    "#Get Readability Scores- FoodData Central\n",
    "readability_scores = []\n",
    "for index, row in FoodDataCentral.iterrows():\n",
    "    if pd.isna(row[\"ingredients\"]) or row[\"ingredients\"] in [\"---\"]:\n",
    "        curr_record = (row['fdc_id'], row['gtin_upc'], pd.NA)\n",
    "        readability_scores.append(curr_record)\n",
    "        \n",
    "    else:\n",
    "        print(row['ingredients'])\n",
    "        curr_record = (row['fdc_id'], row['gtin_upc'], readability.getmeasures(row[\"ingredients\"])['readability grades']['Kincaid'])\n",
    "        readability_scores.append(curr_record)\n",
    "        \n",
    "\n",
    "readScores_df = pd.DataFrame(data = readability_scores, columns = [\"fdc_id\", \"gtin_upc\", \"Kincaid_Score\"])\n",
    "print(readScores_df)\n",
    "readScores_df.to_csv(\"FoodData_Central_Readability.csv\", sep=\",\")"
   ]
  },
  {
   "cell_type": "code",
   "execution_count": null,
   "metadata": {},
   "outputs": [],
   "source": [
    "plt.rcParams[\"figure.figsize\"] = [10.00, 10.00]\n",
    "plt.rcParams[\"figure.autolayout\"] = True\n",
    "G = nx.from_pandas_edgelist(df, 'from', 'to')\n",
    "nx.draw(G, with_labels=True, node_size=100, alpha=1, linewidths=10)\n",
    "plt.show()"
   ]
  },
  {
   "cell_type": "code",
   "execution_count": null,
   "metadata": {},
   "outputs": [],
   "source": [
    "readScores_df.to_csv(\"FoodData_Central_Readability.csv\", sep=\",\")"
   ]
  },
  {
   "cell_type": "code",
   "execution_count": null,
   "metadata": {},
   "outputs": [],
   "source": []
  },
  {
   "cell_type": "markdown",
   "metadata": {},
   "source": [
    "# **Testing Notes**\n",
    "\n",
    "## 2-16-2022\n",
    "- Both OpenFoodFacts and FoodData Central Databases contain entries with 'non-standard' ingredient lists (i.e. emojis or no words)- Further investigation of datasets is required.\n",
    "\n",
    "## 2-18-2022\n",
    "- OpenFoodFacts \"non word\" Ingredient list records include the following: '🍎', \"...\", \".\" Getting readability scores is successful after factoring for these values. Substitution of these values is needed for inclusion in analysis.\n",
    "\n",
    "- FoodData Central Data too large to be handled with current memory. Further investigation of ingredient lists is needed.\n",
    "\n",
    "## 2-20-2022\n",
    "- Refinement of Tokenization is needed.\n",
    "- Negative Flesch-Kincaid scores\n",
    "\n",
    "## 2-24-2022\n"
   ]
  }
 ],
 "metadata": {
  "kernelspec": {
   "display_name": "Python 3",
   "language": "python",
   "name": "python3"
  },
  "language_info": {
   "codemirror_mode": {
    "name": "ipython",
    "version": 3
   },
   "file_extension": ".py",
   "mimetype": "text/x-python",
   "name": "python",
   "nbconvert_exporter": "python",
   "pygments_lexer": "ipython3",
   "version": "3.8.3"
  }
 },
 "nbformat": 4,
 "nbformat_minor": 5
}
