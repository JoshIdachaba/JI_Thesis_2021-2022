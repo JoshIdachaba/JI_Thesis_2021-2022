{
 "cells": [
  {
   "cell_type": "markdown",
   "metadata": {},
   "source": [
    "# Tests involving parsing OpenFoodFacts and FoodData Central Databases\n",
    "\n",
    "Databases Used:\n",
    "\n",
    "OpenFoodFacts Product Database (2168141 rows x 191 columns)\n",
    "\n",
    "FoodDataCentral Branded Food Database (1555131 rows x 17 columns)"
   ]
  },
  {
   "cell_type": "code",
   "execution_count": 2,
   "metadata": {},
   "outputs": [],
   "source": [
    "#Packages Used\n",
    "import pandas as pd\n",
    "import numpy as np\n",
    "import networkx as nx\n",
    "import matplotlib.pyplot as plt\n",
    "from nltk.tokenize import word_tokenize\n",
    "import readability"
   ]
  },
  {
   "cell_type": "code",
   "execution_count": 3,
   "metadata": {},
   "outputs": [
    {
     "name": "stderr",
     "output_type": "stream",
     "text": [
      "C:\\Users\\Joshua\\anaconda3\\lib\\site-packages\\IPython\\core\\interactiveshell.py:3071: DtypeWarning: Columns (0,8,14,20,21,22,23,24,28,29,30,32,33,39,41,42,43,48,53,56,68) have mixed types.Specify dtype option on import or set low_memory=False.\n",
      "  has_raised = await self.run_ast_nodes(code_ast.body, cell_name,\n"
     ]
    },
    {
     "name": "stdout",
     "output_type": "stream",
     "text": [
      "                         code  \\\n",
      "0           00000000000000225   \n",
      "1        00000000000003429145   \n",
      "2               0000000000017   \n",
      "3               0000000000031   \n",
      "4          000000000003327986   \n",
      "...                       ...   \n",
      "2168136         9999999910128   \n",
      "2168137             999999999   \n",
      "2168138         9999999990397   \n",
      "2168139         9999999999994   \n",
      "2168140       999999999999999   \n",
      "\n",
      "                                                       url  \\\n",
      "0        http://world-en.openfoodfacts.org/product/0000...   \n",
      "1        http://world-en.openfoodfacts.org/product/0000...   \n",
      "2        http://world-en.openfoodfacts.org/product/0000...   \n",
      "3        http://world-en.openfoodfacts.org/product/0000...   \n",
      "4        http://world-en.openfoodfacts.org/product/0000...   \n",
      "...                                                    ...   \n",
      "2168136  http://world-en.openfoodfacts.org/product/9999...   \n",
      "2168137  http://world-en.openfoodfacts.org/product/9999...   \n",
      "2168138  http://world-en.openfoodfacts.org/product/9999...   \n",
      "2168139  http://world-en.openfoodfacts.org/product/9999...   \n",
      "2168140  http://world-en.openfoodfacts.org/product/9999...   \n",
      "\n",
      "                            creator   created_t      created_datetime  \\\n",
      "0                    nutrinet-sante  1623855208  2021-06-16T14:53:28Z   \n",
      "1                           kiliweb  1630483911  2021-09-01T08:11:51Z   \n",
      "2                           kiliweb  1529059080  2018-06-15T10:38:00Z   \n",
      "3                          isagoofy  1539464774  2018-10-13T21:06:14Z   \n",
      "4                           kiliweb  1574175736  2019-11-19T15:02:16Z   \n",
      "...                             ...         ...                   ...   \n",
      "2168136                     kiliweb  1572513866  2019-10-31T09:24:26Z   \n",
      "2168137              nutrinet-sante  1608105503  2020-12-16T07:58:23Z   \n",
      "2168138                     kiliweb  1581171613  2020-02-08T14:20:13Z   \n",
      "2168139                     kiliweb  1613129728  2021-02-12T11:35:28Z   \n",
      "2168140  openfoodfacts-contributors  1587222660  2020-04-18T15:11:00Z   \n",
      "\n",
      "         last_modified_t last_modified_datetime  \\\n",
      "0             1623855209   2021-06-16T14:53:29Z   \n",
      "1             1630484064   2021-09-01T08:14:24Z   \n",
      "2             1561463718   2019-06-25T11:55:18Z   \n",
      "3             1539464817   2018-10-13T21:06:57Z   \n",
      "4             1624390765   2021-06-22T19:39:25Z   \n",
      "...                  ...                    ...   \n",
      "2168136       1572513866   2019-10-31T09:24:26Z   \n",
      "2168137       1608105504   2020-12-16T07:58:24Z   \n",
      "2168138       1582644247   2020-02-25T15:24:07Z   \n",
      "2168139       1613129730   2021-02-12T11:35:30Z   \n",
      "2168140       1605558295   2020-11-16T20:24:55Z   \n",
      "\n",
      "                                   product_name abbreviated_product_name  \\\n",
      "0                                jeunes pousses                      NaN   \n",
      "1                                       L.casei                      NaN   \n",
      "2                              Vitória crackers                      NaN   \n",
      "3                                         Cacao                      NaN   \n",
      "4                     Filetes de pollo empanado                      NaN   \n",
      "...                                         ...                      ...   \n",
      "2168136  Sandwich club Rillette poisson combava                      NaN   \n",
      "2168137                 Thé noir BIO Darjeeling                      NaN   \n",
      "2168138                                    Fati                      NaN   \n",
      "2168139               Light & Free SKYR A BOIRE                      NaN   \n",
      "2168140                       Signal Toothpaste                      NaN   \n",
      "\n",
      "        generic_name  ... carbon-footprint-from-meat-or-fish_100g  \\\n",
      "0                NaN  ...                                     NaN   \n",
      "1                NaN  ...                                     NaN   \n",
      "2                NaN  ...                                     NaN   \n",
      "3                NaN  ...                                     NaN   \n",
      "4                NaN  ...                                     NaN   \n",
      "...              ...  ...                                     ...   \n",
      "2168136          NaN  ...                                     NaN   \n",
      "2168137          NaN  ...                                     NaN   \n",
      "2168138          NaN  ...                                     NaN   \n",
      "2168139          NaN  ...                                     NaN   \n",
      "2168140          NaN  ...                                     NaN   \n",
      "\n",
      "        nutrition-score-fr_100g nutrition-score-uk_100g glycemic-index_100g  \\\n",
      "0                           NaN                     NaN                 NaN   \n",
      "1                           NaN                     NaN                 NaN   \n",
      "2                           NaN                     NaN                 NaN   \n",
      "3                           NaN                     NaN                 NaN   \n",
      "4                           NaN                     NaN                 NaN   \n",
      "...                         ...                     ...                 ...   \n",
      "2168136                     NaN                     NaN                 NaN   \n",
      "2168137                     NaN                     NaN                 NaN   \n",
      "2168138                     NaN                     NaN                 NaN   \n",
      "2168139                     NaN                     NaN                 NaN   \n",
      "2168140                     NaN                     NaN                 NaN   \n",
      "\n",
      "        water-hardness_100g choline_100g phylloquinone_100g beta-glucan_100g  \\\n",
      "0                       NaN          NaN                NaN              NaN   \n",
      "1                       NaN          NaN                NaN              NaN   \n",
      "2                       NaN          NaN                NaN              NaN   \n",
      "3                       NaN          NaN                NaN              NaN   \n",
      "4                       NaN          NaN                NaN              NaN   \n",
      "...                     ...          ...                ...              ...   \n",
      "2168136                 NaN          NaN                NaN              NaN   \n",
      "2168137                 NaN          NaN                NaN              NaN   \n",
      "2168138                 NaN          NaN                NaN              NaN   \n",
      "2168139                 NaN          NaN                NaN              NaN   \n",
      "2168140                 NaN          NaN                NaN              NaN   \n",
      "\n",
      "        inositol_100g carnitine_100g  \n",
      "0                 NaN            NaN  \n",
      "1                 NaN            NaN  \n",
      "2                 NaN            NaN  \n",
      "3                 NaN            NaN  \n",
      "4                 NaN            NaN  \n",
      "...               ...            ...  \n",
      "2168136           NaN            NaN  \n",
      "2168137           NaN            NaN  \n",
      "2168138           NaN            NaN  \n",
      "2168139           NaN            NaN  \n",
      "2168140           NaN            NaN  \n",
      "\n",
      "[2168141 rows x 191 columns]\n"
     ]
    }
   ],
   "source": [
    "OpenFoodFacts = pd.read_csv(\"OpenFoodFacts/en.openfoodfacts.org.products.csv\", sep = \"\\t\")\n",
    "print(OpenFoodFacts)"
   ]
  },
  {
   "cell_type": "code",
   "execution_count": null,
   "metadata": {},
   "outputs": [],
   "source": [
    "FoodDataCentral = pd.read_csv(\"FoodData_Central_csv_2021-10-28/branded_food.csv\")\n",
    "print(FoodDataCentral)"
   ]
  },
  {
   "cell_type": "code",
   "execution_count": null,
   "metadata": {},
   "outputs": [],
   "source": [
    "OFF_head = OpenFoodFacts.head(500)\n"
   ]
  },
  {
   "cell_type": "code",
   "execution_count": null,
   "metadata": {},
   "outputs": [],
   "source": [
    "OFF_head.to_csv(\"OpenFoodFacts_Head_Demo.csv\")"
   ]
  },
  {
   "cell_type": "code",
   "execution_count": null,
   "metadata": {},
   "outputs": [],
   "source": [
    "FDC_head = FoodDataCentral.head(500)"
   ]
  },
  {
   "cell_type": "code",
   "execution_count": null,
   "metadata": {},
   "outputs": [],
   "source": [
    "FDC_head.to_csv(\"FoodDataCentral_Head_Demo.csv\")"
   ]
  },
  {
   "cell_type": "code",
   "execution_count": 5,
   "metadata": {},
   "outputs": [
    {
     "name": "stdout",
     "output_type": "stream",
     "text": [
      "                  code                                                url  \\\n",
      "6          00000000001  http://world-en.openfoodfacts.org/product/0000...   \n",
      "60       0000000004530  http://world-en.openfoodfacts.org/product/0000...   \n",
      "61       0000000004559  http://world-en.openfoodfacts.org/product/0000...   \n",
      "120      0000000016087  http://world-en.openfoodfacts.org/product/0000...   \n",
      "121      0000000016094  http://world-en.openfoodfacts.org/product/0000...   \n",
      "...                ...                                                ...   \n",
      "2162679    99482467111  http://world-en.openfoodfacts.org/product/9948...   \n",
      "2162713       99567453  http://world-en.openfoodfacts.org/product/9956...   \n",
      "2162781       99803377  http://world-en.openfoodfacts.org/product/9980...   \n",
      "2168086   999990026839  http://world-en.openfoodfacts.org/product/9999...   \n",
      "2168128        9999999  http://world-en.openfoodfacts.org/product/9999...   \n",
      "\n",
      "                            creator   created_t      created_datetime  \\\n",
      "6                               inf  1634745456  2021-10-20T15:57:36Z   \n",
      "60                  usda-ndb-import  1489069957  2017-03-09T14:32:37Z   \n",
      "61                  usda-ndb-import  1489069957  2017-03-09T14:32:37Z   \n",
      "120                 usda-ndb-import  1489055731  2017-03-09T10:35:31Z   \n",
      "121                 usda-ndb-import  1489055653  2017-03-09T10:34:13Z   \n",
      "...                             ...         ...                   ...   \n",
      "2162679           org-database-usda  1587665406  2020-04-23T18:10:06Z   \n",
      "2162713             usda-ndb-import  1489059076  2017-03-09T11:31:16Z   \n",
      "2162781                         inf  1600658514  2020-09-21T03:21:54Z   \n",
      "2168086             usda-ndb-import  1489072709  2017-03-09T15:18:29Z   \n",
      "2168128  openfoodfacts-contributors  1586217782  2020-04-07T00:03:02Z   \n",
      "\n",
      "         last_modified_t last_modified_datetime  \\\n",
      "6             1634745530   2021-10-20T15:58:50Z   \n",
      "60            1489069957   2017-03-09T14:32:37Z   \n",
      "61            1489069957   2017-03-09T14:32:37Z   \n",
      "120           1545997008   2018-12-28T11:36:48Z   \n",
      "121           1545997008   2018-12-28T11:36:48Z   \n",
      "...                  ...                    ...   \n",
      "2162679       1587665406   2020-04-23T18:10:06Z   \n",
      "2162713       1644527270   2022-02-10T21:07:50Z   \n",
      "2162781       1604937107   2020-11-09T15:51:47Z   \n",
      "2168086       1644527315   2022-02-10T21:08:35Z   \n",
      "2168128       1586217813   2020-04-07T00:03:33Z   \n",
      "\n",
      "                                              product_name  \\\n",
      "6                                                hyde icon   \n",
      "60                          Banana Chips Sweetened (Whole)   \n",
      "61                                                 Peanuts   \n",
      "120                                 Organic Salted Nut Mix   \n",
      "121                                        Organic Polenta   \n",
      "...                                                    ...   \n",
      "2162679                     Almondmilk beverage, chocolate   \n",
      "2162713  Mint Melange Tea A Blend Of Peppermint, Lemon ...   \n",
      "2162781                                             noodle   \n",
      "2168086                    Sugar Free Drink Mix, Peach Tea   \n",
      "2168128                   little remedies gas relief drops   \n",
      "\n",
      "        abbreviated_product_name generic_name  ...  \\\n",
      "6                            NaN          NaN  ...   \n",
      "60                           NaN          NaN  ...   \n",
      "61                           NaN          NaN  ...   \n",
      "120                          NaN          NaN  ...   \n",
      "121                          NaN          NaN  ...   \n",
      "...                          ...          ...  ...   \n",
      "2162679                      NaN          NaN  ...   \n",
      "2162713                      NaN          NaN  ...   \n",
      "2162781                      NaN          NaN  ...   \n",
      "2168086                      NaN          NaN  ...   \n",
      "2168128                      NaN          NaN  ...   \n",
      "\n",
      "        carbon-footprint-from-meat-or-fish_100g nutrition-score-fr_100g  \\\n",
      "6                                           NaN                     NaN   \n",
      "60                                          NaN                     NaN   \n",
      "61                                          NaN                     NaN   \n",
      "120                                         NaN                     NaN   \n",
      "121                                         NaN                     NaN   \n",
      "...                                         ...                     ...   \n",
      "2162679                                     NaN                     1.0   \n",
      "2162713                                     NaN                     NaN   \n",
      "2162781                                     NaN                     NaN   \n",
      "2168086                                     NaN                     NaN   \n",
      "2168128                                     NaN                     NaN   \n",
      "\n",
      "        nutrition-score-uk_100g glycemic-index_100g water-hardness_100g  \\\n",
      "6                           NaN                 NaN                 NaN   \n",
      "60                          NaN                 NaN                 NaN   \n",
      "61                          NaN                 NaN                 NaN   \n",
      "120                         NaN                 NaN                 NaN   \n",
      "121                         NaN                 NaN                 NaN   \n",
      "...                         ...                 ...                 ...   \n",
      "2162679                     NaN                 NaN                 NaN   \n",
      "2162713                     NaN                 NaN                 NaN   \n",
      "2162781                     NaN                 NaN                 NaN   \n",
      "2168086                     NaN                 NaN                 NaN   \n",
      "2168128                     NaN                 NaN                 NaN   \n",
      "\n",
      "        choline_100g phylloquinone_100g beta-glucan_100g inositol_100g  \\\n",
      "6                NaN                NaN              NaN           NaN   \n",
      "60               NaN                NaN              NaN           NaN   \n",
      "61               NaN                NaN              NaN           NaN   \n",
      "120              NaN                NaN              NaN           NaN   \n",
      "121              NaN                NaN              NaN           NaN   \n",
      "...              ...                ...              ...           ...   \n",
      "2162679          NaN                NaN              NaN           NaN   \n",
      "2162713          NaN                NaN              NaN           NaN   \n",
      "2162781          NaN                NaN              NaN           NaN   \n",
      "2168086          NaN                NaN              NaN           NaN   \n",
      "2168128          NaN                NaN              NaN           NaN   \n",
      "\n",
      "        carnitine_100g  \n",
      "6                  NaN  \n",
      "60                 NaN  \n",
      "61                 NaN  \n",
      "120                NaN  \n",
      "121                NaN  \n",
      "...                ...  \n",
      "2162679            NaN  \n",
      "2162713            NaN  \n",
      "2162781            NaN  \n",
      "2168086            NaN  \n",
      "2168128            NaN  \n",
      "\n",
      "[412108 rows x 191 columns]\n"
     ]
    }
   ],
   "source": [
    "OFF_US = OpenFoodFacts.query('countries_en == \"United States\"')\n",
    "print(OFF_US)"
   ]
  },
  {
   "cell_type": "code",
   "execution_count": null,
   "metadata": {},
   "outputs": [],
   "source": [
    "OFF_US_head = OFF_US.head(500)\n",
    "OFF_US_head.to_csv(\"OpenFoodFacts_Head_Demo.csv\")"
   ]
  },
  {
   "cell_type": "code",
   "execution_count": null,
   "metadata": {},
   "outputs": [],
   "source": [
    "OFF_US.fillna({'product_name':\"Unknown\"}, inplace=True)"
   ]
  },
  {
   "cell_type": "code",
   "execution_count": null,
   "metadata": {},
   "outputs": [],
   "source": [
    "#Get Readability Score\n",
    "for i in OFF_head['ingredients_text']:\n",
    "    #Check if NA/NaN\n",
    "   if not pd.isna(i):\n",
    "        print(readability.getmeasures(i)['readability grades']['Kincaid'])\n"
   ]
  },
  {
   "cell_type": "code",
   "execution_count": null,
   "metadata": {},
   "outputs": [],
   "source": [
    "#Get Readability Score\n",
    "readability_scores = []\n",
    "for index, row in OFF_head.iterrows():\n",
    "    if pd.isna(row[\"ingredients_text\"]) or row[\"ingredients_text\"] in ['🍎', \"...\"]:\n",
    "        curr_record = (row['product_name'], row['code'], pd.NA)\n",
    "        readability_scores.append(curr_record)\n",
    "        print([i for i in curr_record])\n",
    "    else:\n",
    "        curr_record = (row['product_name'], row['code'], readability.getmeasures(row[\"ingredients_text\"])['readability grades']['Kincaid'])\n",
    "        readability_scores.append(curr_record)\n",
    "        print([i for i in curr_record])\n",
    "\n",
    "readScores_df = pd.DataFrame(data = readability_scores, columns = [\"code\", \"product_name\", \"Kincaid_Score\"])\n",
    "print(readScores_df)\n",
    "    "
   ]
  },
  {
   "cell_type": "code",
   "execution_count": null,
   "metadata": {},
   "outputs": [],
   "source": [
    "#Get Readability Score- Open Food Facts (United States Foods)\n",
    "readability_scores = []\n",
    "for index, row in OFF_US.iterrows():\n",
    "    if pd.isna(row[\"ingredients_text\"]) or row[\"ingredients_text\"] in ['🍎', \"...\", \".\"]:\n",
    "        curr_record = (row['code'], row['product_name'], pd.NA)\n",
    "        readability_scores.append(curr_record)\n",
    "        \n",
    "    else:\n",
    "        print(row[\"ingredients_text\"])\n",
    "        curr_record = (row['code'], row['product_name'],readability.getmeasures(row[\"ingredients_text\"])['readability grades']['Kincaid'])\n",
    "        readability_scores.append(curr_record)\n",
    "\n",
    "readScores_df = pd.DataFrame(data = readability_scores, columns = [\"code\", \"product_name\", \"Kincaid_Score\"])\n",
    "print(readScores_df)\n",
    "readScores_df.to_csv(\"OpenFoodFacts_Readability.csv\", sep=\",\")"
   ]
  },
  {
   "cell_type": "code",
   "execution_count": null,
   "metadata": {},
   "outputs": [],
   "source": [
    "readScores_df.to_csv(\"OpenFoodFacts_Readability.csv\", sep=\",\")"
   ]
  },
  {
   "cell_type": "code",
   "execution_count": null,
   "metadata": {},
   "outputs": [],
   "source": [
    "OFF_US.query(\"ingredients_text == '🍎'\")"
   ]
  },
  {
   "cell_type": "code",
   "execution_count": null,
   "metadata": {},
   "outputs": [],
   "source": [
    "FoodDataCentral.query(\"ingredients == '---'\")"
   ]
  },
  {
   "cell_type": "code",
   "execution_count": null,
   "metadata": {},
   "outputs": [],
   "source": [
    "print(OFF_US['code'].isnull().values.any())\n",
    "print(OFF_US['code'].isnull().sum())"
   ]
  },
  {
   "cell_type": "code",
   "execution_count": null,
   "metadata": {},
   "outputs": [],
   "source": [
    "print(FDC_head)"
   ]
  },
  {
   "cell_type": "code",
   "execution_count": null,
   "metadata": {},
   "outputs": [],
   "source": [
    "print(OFF_US.columns.values)"
   ]
  },
  {
   "cell_type": "code",
   "execution_count": null,
   "metadata": {},
   "outputs": [],
   "source": [
    "#Get Readability Scores- FoodData Central\n",
    "readability_scores = []\n",
    "for index, row in FoodDataCentral.iterrows():\n",
    "    if pd.isna(row[\"ingredients\"]) or row[\"ingredients\"] in [\"---\"]:\n",
    "        curr_record = (row['fdc_id'], row['gtin_upc'], pd.NA)\n",
    "        readability_scores.append(curr_record)\n",
    "        \n",
    "    else:\n",
    "        print(row['ingredients'])\n",
    "        curr_record = (row['fdc_id'], row['gtin_upc'], readability.getmeasures(row[\"ingredients\"])['readability grades']['Kincaid'])\n",
    "        readability_scores.append(curr_record)\n",
    "        \n",
    "\n",
    "readScores_df = pd.DataFrame(data = readability_scores, columns = [\"fdc_id\", \"gtin_upc\", \"Kincaid_Score\"])\n",
    "print(readScores_df)\n",
    "readScores_df.to_csv(\"FoodData_Central_Readability.csv\", sep=\",\")"
   ]
  },
  {
   "cell_type": "code",
   "execution_count": null,
   "metadata": {},
   "outputs": [],
   "source": [
    "plt.rcParams[\"figure.figsize\"] = [10.00, 10.00]\n",
    "plt.rcParams[\"figure.autolayout\"] = True\n",
    "G = nx.from_pandas_edgelist(df, 'from', 'to')\n",
    "nx.draw(G, with_labels=True, node_size=100, alpha=1, linewidths=10)\n",
    "plt.show()"
   ]
  },
  {
   "cell_type": "code",
   "execution_count": null,
   "metadata": {},
   "outputs": [],
   "source": [
    "readScores_df.to_csv(\"FoodData_Central_Readability.csv\", sep=\",\")"
   ]
  },
  {
   "cell_type": "markdown",
   "metadata": {},
   "source": [
    "# **Testing Notes**\n",
    "\n",
    "## 2-16-2022\n",
    "- Both OpenFoodFacts and FoodData Central Databases contain entries with 'non-standard' ingredient lists (i.e. emojis or no words)- Further investigation of datasets is required.\n",
    "\n",
    "## 2-18-2022\n",
    "- OpenFoodFacts \"non word\" Ingredient list records include the following: '🍎', \"...\", \".\" Getting readability scores is successful after factoring for these values. Substitution of these values is needed for inclusion in analysis.\n",
    "\n",
    "- FoodData Central Data too large to be handled with current memory. Further investigation of ingredient lists is needed.\n",
    "## 2-20-2022\n",
    "- Refinement of Tokenization is needed.\n",
    "- Negative Flesch-Kincaid scores\n"
   ]
  }
 ],
 "metadata": {
  "kernelspec": {
   "display_name": "Python 3",
   "language": "python",
   "name": "python3"
  },
  "language_info": {
   "codemirror_mode": {
    "name": "ipython",
    "version": 3
   },
   "file_extension": ".py",
   "mimetype": "text/x-python",
   "name": "python",
   "nbconvert_exporter": "python",
   "pygments_lexer": "ipython3",
   "version": "3.8.3"
  }
 },
 "nbformat": 4,
 "nbformat_minor": 5
}
