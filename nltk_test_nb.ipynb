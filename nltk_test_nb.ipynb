{
 "cells": [
  {
   "cell_type": "markdown",
   "metadata": {},
   "source": [
    "**Test for Using NLTK to Tokenize NHANES Question Information**\n",
    "\n",
    "Using the Diet Behavior & Quality (DBQ) section as a test case, this program will open the XPT file for the DBQ dataset and tokenize its questions."
   ]
  },
  {
   "cell_type": "markdown",
   "metadata": {},
   "source": [
    "*Import Packages Used*\n",
    "\n",
    "2-9-2022 Test *Successful after downloading packages to **anaconda3_new** environment* \\\n",
    "import nltk \\\n",
    "import pandas as pd \\\n",
    "from nltk.tokenize import word_tokenize, sent_tokenize \\\n",
    "import xport \n",
    "\n"
   ]
  },
  {
   "cell_type": "code",
   "execution_count": 10,
   "metadata": {},
   "outputs": [],
   "source": [
    "import nltk \n",
    "import pandas as pd\n",
    "from nltk.tokenize import word_tokenize, sent_tokenize\n",
    "import xport.v56\n",
    "import xport\n"
   ]
  },
  {
   "cell_type": "markdown",
   "metadata": {},
   "source": [
    "*Import data from CSV file- test 2-8-2022*\n",
    "\n",
    "2-9-2022"
   ]
  },
  {
   "cell_type": "code",
   "execution_count": null,
   "metadata": {},
   "outputs": [],
   "source": [
    "data = pd.read_csv(\"NHANES test/DBQ_J.csv\")\n",
    "print(data)\n",
    "a = data.columns\n",
    "print(a)"
   ]
  },
  {
   "cell_type": "markdown",
   "metadata": {},
   "source": [
    "*Import data from XPT file- test 2-9-2022*\n"
   ]
  },
  {
   "cell_type": "code",
   "execution_count": 14,
   "metadata": {},
   "outputs": [
    {
     "name": "stdout",
     "output_type": "stream",
     "text": [
      "<Library members=['DBQ_J']>\n"
     ]
    }
   ],
   "source": [
    "with open('NHANES test/DBQ_J.xpt', 'rb') as f:\n",
    "    library = xport.v56.load(f)\n",
    "    print(library)"
   ]
  },
  {
   "cell_type": "markdown",
   "metadata": {},
   "source": [
    "*NLTK Function test- Download NLTK requirements and tokenize string*"
   ]
  },
  {
   "cell_type": "code",
   "execution_count": null,
   "metadata": {},
   "outputs": [],
   "source": [
    "nltk.download()"
   ]
  },
  {
   "cell_type": "code",
   "execution_count": null,
   "metadata": {},
   "outputs": [],
   "source": [
    "x = \"Love Words\"\n",
    "print(word_tokenize(x))"
   ]
  }
 ],
 "metadata": {
  "kernelspec": {
   "display_name": "Python 3 (ipykernel)",
   "language": "python",
   "name": "python3"
  },
  "language_info": {
   "codemirror_mode": {
    "name": "ipython",
    "version": 3
   },
   "file_extension": ".py",
   "mimetype": "text/x-python",
   "name": "python",
   "nbconvert_exporter": "python",
   "pygments_lexer": "ipython3",
   "version": "3.7.1"
  }
 },
 "nbformat": 4,
 "nbformat_minor": 4
}
