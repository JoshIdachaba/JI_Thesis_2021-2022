{
 "cells": [
  {
   "cell_type": "code",
   "execution_count": 9,
   "metadata": {},
   "outputs": [],
   "source": [
    "import nltk\n",
    "import pandas as pd\n",
    "from nltk.tokenize import word_tokenize, sent_tokenize"
   ]
  },
  {
   "cell_type": "code",
   "execution_count": 12,
   "metadata": {},
   "outputs": [
    {
     "name": "stdout",
     "output_type": "stream",
     "text": [
      "      Unnamed: 0      SEQN  RIAGENDR  RIDAGEYR  RIDRETH1  RIDRETH3  RIDEXMON  \\\n",
      "0              1   93703.0         2         2         5         6         2   \n",
      "1              2   93704.0         1         2         3         3         1   \n",
      "2              3   93705.0         2        66         4         4         2   \n",
      "3              4   93706.0         1        18         5         6         2   \n",
      "4              5   93707.0         1        13         5         7         2   \n",
      "...          ...       ...       ...       ...       ...       ...       ...   \n",
      "9249        9250  102952.0         2        70         5         6         2   \n",
      "9250        9251  102953.0         1        42         1         1         2   \n",
      "9251        9252  102954.0         2        41         4         4         1   \n",
      "9252        9253  102955.0         2        14         4         4         2   \n",
      "9253        9254  102956.0         1        38         3         3         2   \n",
      "\n",
      "      RIDEXAGM  DMQMILIZ  DMQADFC  ...  DMDHRMAZ  DMDHSEDZ      WTINT2YR  \\\n",
      "0           27         2        2  ...         1         3   9246.491865   \n",
      "1           33         2        1  ...         1         2  37338.768343   \n",
      "2          235         2        2  ...         2         1   8614.571172   \n",
      "3          222         2        2  ...         1         2   8548.632619   \n",
      "4          158         2        1  ...         1         3   6769.344567   \n",
      "...        ...       ...      ...  ...       ...       ...           ...   \n",
      "9249       221         2        2  ...         1         1  16896.276203   \n",
      "9250       237         2        2  ...         2         2  61630.380013   \n",
      "9251       236         2        2  ...         2         2  17160.895269   \n",
      "9252       175         2        1  ...         1         2  14238.445922   \n",
      "9253       237         2        1  ...         2         3  38645.740291   \n",
      "\n",
      "          WTMEC2YR  SDMVPSU  SDMVSTRA  INDHHIN2  INDFMIN2  INDFMPIR  CBQ596  \n",
      "0      8539.731348        2       145        15        15      5.00       1  \n",
      "1     42566.614750        1       143        15        15      5.00       2  \n",
      "2      8338.419786        2       145         3         3      0.82       2  \n",
      "3      8723.439814        2       134        14        15      2.71       2  \n",
      "4      7064.609730        1       138        10        10      1.88       1  \n",
      "...            ...      ...       ...       ...       ...       ...     ...  \n",
      "9249  18338.711104        2       138         4         4      0.95       2  \n",
      "9250  63661.951573        2       137        12        12      5.00       2  \n",
      "9251  17694.783346        1       144        10        10      1.18       2  \n",
      "9252  14871.839636        1       136         9         9      2.24       1  \n",
      "9253  39426.299948        1       142         7         7      1.56       1  \n",
      "\n",
      "[9254 rows x 45 columns]\n",
      "Index(['Unnamed: 0', 'SEQN', 'RIAGENDR', 'RIDAGEYR', 'RIDRETH1', 'RIDRETH3',\n",
      "       'RIDEXMON', 'RIDEXAGM', 'DMQMILIZ', 'DMQADFC', 'DMDBORN4', 'DMDCITZN',\n",
      "       'DMDYRSUS', 'DMDEDUC3', 'DMDEDUC2', 'DMDMARTL', 'RIDEXPRG', 'SIALANG',\n",
      "       'SIAPROXY', 'SIAINTRP', 'FIALANG', 'FIAPROXY', 'FIAINTRP', 'MIALANG',\n",
      "       'MIAPROXY', 'MIAINTRP', 'AIALANGA', 'DMDHHSIZ', 'DMDFMSIZ', 'DMDHHSZA',\n",
      "       'DMDHHSZB', 'DMDHHSZE', 'DMDHRGND', 'DMDHRAGZ', 'DMDHREDZ', 'DMDHRMAZ',\n",
      "       'DMDHSEDZ', 'WTINT2YR', 'WTMEC2YR', 'SDMVPSU', 'SDMVSTRA', 'INDHHIN2',\n",
      "       'INDFMIN2', 'INDFMPIR', 'CBQ596'],\n",
      "      dtype='object')\n"
     ]
    }
   ],
   "source": [
    "data = pd.read_csv(\"NHANES test/Imputed Dataset-Test.csv\")\n",
    "print(data)\n",
    "a = data.columns\n",
    "print(a)"
   ]
  },
  {
   "cell_type": "code",
   "execution_count": 7,
   "metadata": {},
   "outputs": [
    {
     "name": "stdout",
     "output_type": "stream",
     "text": [
      "showing info https://raw.githubusercontent.com/nltk/nltk_data/gh-pages/index.xml\n"
     ]
    },
    {
     "data": {
      "text/plain": [
       "True"
      ]
     },
     "execution_count": 7,
     "metadata": {},
     "output_type": "execute_result"
    }
   ],
   "source": [
    "nltk.download()"
   ]
  },
  {
   "cell_type": "code",
   "execution_count": 8,
   "metadata": {},
   "outputs": [
    {
     "name": "stdout",
     "output_type": "stream",
     "text": [
      "['Love', 'Words']\n"
     ]
    }
   ],
   "source": [
    "x = \"Love Words\"\n",
    "print(word_tokenize(x))"
   ]
  }
 ],
 "metadata": {
  "kernelspec": {
   "display_name": "Python 3",
   "language": "python",
   "name": "python3"
  },
  "language_info": {
   "codemirror_mode": {
    "name": "ipython",
    "version": 3
   },
   "file_extension": ".py",
   "mimetype": "text/x-python",
   "name": "python",
   "nbconvert_exporter": "python",
   "pygments_lexer": "ipython3",
   "version": "3.8.3"
  }
 },
 "nbformat": 4,
 "nbformat_minor": 4
}
