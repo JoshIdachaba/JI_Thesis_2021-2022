{
 "cells": [
  {
   "cell_type": "markdown",
   "metadata": {},
   "source": [
    "## Cosine Similarity Analysis ##\n",
    "\n",
    "This notebook shows the step by step process of the cosine_similarity_analysis(filename,subset) function. For purposes of showing the process across multiple cells, the function will not be explicitly defined. The function's arguments are as follows: \n",
    "\n",
    "* **filename** is effectively \"branded_food.csv\", which corresponds to the branded food dataset within FoodData Central's Food Products Database \n",
    "* **subset** is set to \"Rice\", which refers to rice food products within the branded food database.\n",
    "\n",
    "This function assumes that the dataset used is FDC's Food Product database, and that it is installed on your computer at the path **filename**. This function also assumes that **subset** is a valid value of the column \"branded_food_category\".\n",
    "\n",
    "You can check the domain of the column \"branded_food_category\" with the following lines of code(given that 'branded_food.csv' is in the same folder as this notebook):\n",
    "\n",
    "**x = pd.read_csv(\"branded_food.csv\", low_memory = False)** \n",
    "\n",
    "**print(unique(x['branded_food_category]))**\n",
    "\n",
    "This function involves the following 16 steps:\n",
    "1. Import Food Data Central Food Products Database\n",
    "2. Get subset matching branded_food_category == **subset**\n",
    "3. Calculate and get Readability Scores for FoodData Central ingredient lists\n",
    "4. Generate Matrix of pairwise differences for Flesch Reading Ease\n",
    "5. Create Difference Matrix- Dale-Chall Index\n",
    "6. Convert FDC IDs from float to string\n",
    "7. Create list of all possible FDC ID pairs (repeating)\n",
    "8. Create and fit CountVectorizer model to ingredient lists \n",
    "9. Transform CountVectorizer model to array\n",
    "10. Calculate cosine similarity of ingredient lists\n",
    "11. Create Dataframe with readability differences and cosine similarities\n",
    "12. Prepare dataframe for plot generation and Summary Statistics\n",
    "13. Get Scatter Plot- Dale Chall diff vs Cosine Similarity\n",
    "14. Get Scatter Plot- Dale Chall diff vs Flesch diff\n",
    "15. Get Scatter Plot- Flesch diff vs Cosine Similarity\n",
    "16. Get Pearson Correlations via scipy.stats.pearsonr()\n"
   ]
  },
  {
   "cell_type": "code",
   "execution_count": null,
   "metadata": {},
   "outputs": [],
   "source": [
    "#Packages Used\n",
    "import pandas as pd\n",
    "import numpy as np\n",
    "import matplotlib.pyplot as plt\n",
    "import readability\n",
    "import time\n",
    "from sklearn.feature_extraction.text import CountVectorizer, HashingVectorizer\n",
    "from sklearn.metrics.pairwise import cosine_similarity\n",
    "from scipy.stats import pearsonr\n",
    "import itertools\n",
    "from itertools import combinations,chain,product,permutations"
   ]
  },
  {
   "cell_type": "code",
   "execution_count": null,
   "metadata": {},
   "outputs": [],
   "source": [
    "#Step 1: Import Food Data Central Food Products Database \n",
    "FoodDataCentral = pd.read_csv(\"branded_food.csv\", low_memory = False)"
   ]
  },
  {
   "cell_type": "code",
   "execution_count": null,
   "metadata": {},
   "outputs": [],
   "source": [
    "#Generate list of branded food categories (Optional, can be used to determine branded food category for analysis)\n",
    "grouped_counts = pd.DataFrame(FoodDataCentral.groupby(['branded_food_category'])['branded_food_category'].count())\n",
    "grouped_counts.columns = [\"bfc_count\"]\n",
    "grouped_counts.sort_values(by = \"bfc_count\", ascending = False)[50:70]"
   ]
  },
  {
   "cell_type": "code",
   "execution_count": null,
   "metadata": {},
   "outputs": [],
   "source": [
    "#Step 2: Get Database subset by branded food category ('Rice' in this case) and remove rows with empty values or only non-words \n",
    "FoodDataCentral = FoodDataCentral.query(\"branded_food_category == 'Rice'\")\n",
    "FoodDataCentral = FoodDataCentral.dropna(subset = ['ingredients'])\n",
    "FoodDataCentral = FoodDataCentral[FoodDataCentral[\"ingredients\"] != \"---\"]\n",
    "FoodDataCentral = FoodDataCentral[FoodDataCentral[\"ingredients\"] != \",\"]"
   ]
  },
  {
   "cell_type": "code",
   "execution_count": null,
   "metadata": {},
   "outputs": [],
   "source": [
    "#Step 3: Calculate and get Readability Scores for FoodData Central ingredient lists\n",
    "readability_scores = []\n",
    "for index, row in FoodDataCentral.iterrows():\n",
    "    #num_words = len(word_tokenize(row['ingredients']))\n",
    "    if pd.isna(row[\"ingredients\"]) or row[\"ingredients\"] in [\"---\"]:\n",
    "        curr_record = (row['fdc_id'], row['gtin_upc'], pd.NA,pd.NA)\n",
    "        readability_scores.append(curr_record)\n",
    "        \n",
    "    else:\n",
    "        \"\"\"Readability.getmeasures() automatically tokenizes the input by default and returns a set of readability measures. In this case,\n",
    "        we are getting a specific measure from the set (flesch-kincaid) \"\"\"\n",
    "        curr_record = (row['fdc_id'], row['gtin_upc'], row['branded_food_category'],readability.getmeasures(row[\"ingredients\"])['readability grades']['Kincaid'],\n",
    "                       readability.getmeasures(row[\"ingredients\"])['readability grades']['FleschReadingEase'],\n",
    "                       readability.getmeasures(row[\"ingredients\"])['readability grades']['DaleChallIndex'],\n",
    "                       readability.getmeasures(row[\"ingredients\"])['sentence info']['words'],\n",
    "                       readability.getmeasures(row[\"ingredients\"])['sentence info']['complex_words_dc'])\n",
    "        readability_scores.append(curr_record)\n",
    "        \n",
    "\n",
    "readScores_FDC = pd.DataFrame(data = readability_scores, columns = [\"fdc_id\", \"gtin_upc\",\"branded_food_category\",\n",
    "                                                                    \"Kincaid_Score\",\"FleschReadingEase\",\"DaleChallIndex\",\n",
    "                                                                    \"num_words\",\"complex_words_dc\"])\n",
    "\n",
    "readScores_FDC.to_csv(\"FoodData_Central_Readability.csv\", sep=\",\")\n",
    "for value in readScores_FDC.columns.values:\n",
    "    FoodDataCentral[value] = readScores_FDC[value]\n",
    "    "
   ]
  },
  {
   "cell_type": "code",
   "execution_count": null,
   "metadata": {},
   "outputs": [],
   "source": [
    "#Step 4: Generate Matrix of pairwise differences for Flesch Reading Ease\n",
    "difference_matrix_fl = [[abs(y - x) for x in readScores_FDC[\"FleschReadingEase\"]] for y in readScores_FDC[\"FleschReadingEase\"]]\n",
    "difference_matrix_fl = list(chain(*difference_matrix_fl))"
   ]
  },
  {
   "cell_type": "code",
   "execution_count": null,
   "metadata": {},
   "outputs": [],
   "source": [
    "#Step 5: Create Difference Matrix- Dale-Chall Index\n",
    "difference_matrix_dc = [[abs(y - x) for x in readScores_FDC[\"DaleChallIndex\"]] for y in readScores_FDC[\"DaleChallIndex\"]]\n",
    "difference_matrix_dc = list(chain(*difference_matrix_dc))"
   ]
  },
  {
   "cell_type": "code",
   "execution_count": null,
   "metadata": {},
   "outputs": [],
   "source": [
    "fdc_id_matrix = [[(y,x) for x in readScores_FDC[\"fdc_id\"]] for y in readScores_FDC[\"fdc_id\"]]\n",
    "fdc_id_matrix = list(chain(*fdc_id_matrix))"
   ]
  },
  {
   "cell_type": "code",
   "execution_count": null,
   "metadata": {},
   "outputs": [],
   "source": [
    "print(fdc_id_matrix == fdcID_pairs)"
   ]
  },
  {
   "cell_type": "code",
   "execution_count": null,
   "metadata": {},
   "outputs": [],
   "source": [
    "#Step 6: Convert FDC IDs from float to string\n",
    "FoodDataCentral[\"fdc_id\"] = FoodDataCentral[\"fdc_id\"].astype(\"str\")"
   ]
  },
  {
   "cell_type": "code",
   "execution_count": null,
   "metadata": {},
   "outputs": [],
   "source": [
    "#Get FDC indices for referencing matrices (Optional)\n",
    "fdc_indices = dict(enumerate(FoodDataCentral[\"fdc_id\"]))"
   ]
  },
  {
   "cell_type": "code",
   "execution_count": null,
   "metadata": {},
   "outputs": [],
   "source": [
    "#Step 7: Create list of FDC ID pairs (w/repeats)\n",
    "fdcID_pairs = list(itertools.product(readScores_FDC[\"fdc_id\"],repeat=2))\n",
    "print(fdcID_pairs[1:10])"
   ]
  },
  {
   "cell_type": "code",
   "execution_count": null,
   "metadata": {},
   "outputs": [],
   "source": [
    "#Step 8: Create and fit CountVectorizer model to ingredient lists \n",
    "\n",
    "#Gather list of ingredient lists from dataset\n",
    "documents = list(FoodDataCentral['ingredients'].values) \n",
    "\n",
    "#Create Count Vectorizer Model\n",
    "count_vectorizer = CountVectorizer(documents, stop_words='english')\n",
    "\n",
    "#Fit model to ingredient list\n",
    "count_vectorizer.fit(documents)"
   ]
  },
  {
   "cell_type": "code",
   "execution_count": null,
   "metadata": {},
   "outputs": [],
   "source": [
    "#Step 9: Transform CountVectorizer model to array\n",
    "documents_1 = list(FoodDataCentral['ingredients'].values) \n",
    "vectors = count_vectorizer.transform(documents_1).toarray()\n",
    "np.save(\"Vectors_Batch_3_test\",vectors)"
   ]
  },
  {
   "cell_type": "code",
   "execution_count": null,
   "metadata": {},
   "outputs": [],
   "source": [
    "#Step 10: Calculate cosine similarity of ingredient lists\n",
    "cos_sim = cosine_similarity(vectors)\n",
    "cos_sim_flat = list(cos_sim)\n",
    "cos_sim_flat = list(chain(*cos_sim_flat))\n",
    "cos_sim_flat = cos_sim_flat / np.linalg.norm(cos_sim_flat)"
   ]
  },
  {
   "cell_type": "code",
   "execution_count": null,
   "metadata": {},
   "outputs": [],
   "source": [
    "#Step 11: Create Dataframe with readability differences and cosine similarities\n",
    "analysis_set = pd.DataFrame(fdcID_pairs, columns = [\"fdc_id 1\",\"FDC_id 2\"])\n",
    "analysis_set[\"DaleChallDiff\"] = difference_matrix_dc\n",
    "analysis_set[\"Cosine_similarity\"] = cos_sim_flat\n",
    "analysis_set[\"Flesch_diff\"] = difference_matrix_fl"
   ]
  },
  {
   "cell_type": "code",
   "execution_count": null,
   "metadata": {},
   "outputs": [],
   "source": [
    "#Step 12: Prepare dataframe for plot generation and Summary Statistics\n",
    "analysis_set.dropna(inplace=True)\n",
    "analysis_set.replace([np.inf, -np.inf], np.nan, inplace=True)\n",
    "analysis_set.dropna(inplace=True)\n",
    "analysis_set.to_csv(\"Readability_and_CosineSimilarity_scores.csv\")"
   ]
  },
  {
   "cell_type": "code",
   "execution_count": null,
   "metadata": {},
   "outputs": [],
   "source": [
    "#Step 13: Get Scatter Plot- Dale Chall diff vs Cosine Similarity\n",
    "plt.scatter(analysis_set[\"DaleChallDiff\"], analysis_set[\"Cosine_similarity\"])\n",
    "plt.show()\n",
    "plt.savefig(\"DaleChall_vs_CosineSimilarity.png\")"
   ]
  },
  {
   "cell_type": "code",
   "execution_count": null,
   "metadata": {},
   "outputs": [],
   "source": [
    "#Step 14: Get Scatter Plot- Dale Chall diff vs Flesch diff\n",
    "plt.scatter(analysis_set[\"DaleChallDiff\"], analysis_set[\"Flesch_diff\"])\n",
    "plt.show()\n",
    "plt.savefig(\"DaleChall_vs_Flesch.png\")"
   ]
  },
  {
   "cell_type": "code",
   "execution_count": null,
   "metadata": {},
   "outputs": [],
   "source": [
    "#Step 15: Get Scatter Plot- Flesch diff vs Cosine Similarity\n",
    "plt.scatter(analysis_set[\"Flesch_diff\"], analysis_set[\"Cosine_similarity\"])\n",
    "plt.show()\n",
    "plt.savefig(\"Flesch_vs_CosineSimilarity.png\")"
   ]
  },
  {
   "cell_type": "code",
   "execution_count": null,
   "metadata": {},
   "outputs": [],
   "source": [
    "#Step 16: Get Pearson Correlations\n",
    "print(pearsonr(analysis_set[\"DaleChallDiff\"], analysis_set[\"Cosine_similarity\"]))\n",
    "print(pearsonr(analysis_set[\"Flesch_diff\"], analysis_set[\"Cosine_similarity\"]))\n",
    "print(pearsonr(analysis_set[\"DaleChallDiff\"], analysis_set[\"Flesch_diff\"]))"
   ]
  }
 ],
 "metadata": {
  "kernelspec": {
   "display_name": "Python 3",
   "language": "python",
   "name": "python3"
  },
  "language_info": {
   "codemirror_mode": {
    "name": "ipython",
    "version": 3
   },
   "file_extension": ".py",
   "mimetype": "text/x-python",
   "name": "python",
   "nbconvert_exporter": "python",
   "pygments_lexer": "ipython3",
   "version": "3.8.3"
  }
 },
 "nbformat": 4,
 "nbformat_minor": 4
}
