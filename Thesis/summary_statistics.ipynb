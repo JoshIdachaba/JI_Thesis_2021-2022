{
 "cells": [
  {
   "cell_type": "code",
   "execution_count": null,
   "metadata": {},
   "outputs": [],
   "source": [
    "#Packages Used\n",
    "import pandas as pd\n",
    "import numpy as np\n",
    "import matplotlib.pyplot as plt\n",
    "import readability\n",
    "import time\n",
    "from sklearn.feature_extraction.text import CountVectorizer, HashingVectorizer\n",
    "from sklearn.metrics.pairwise import cosine_similarity\n",
    "from scipy.stats import pearsonr\n",
    "import itertools\n",
    "from itertools import combinations,chain,product,permutations"
   ]
  },
  {
   "cell_type": "code",
   "execution_count": null,
   "metadata": {},
   "outputs": [],
   "source": [
    "# Scatter plots using random sample approximating behavior (due to millions of points) \n",
    "\n",
    "for i in [[\"Cream\", \"yellow\"],[\"Pasta-Dinners\", \"red\"],[\"Rice\", \"blue\"],[\"Random\",\"green\"]]:\n",
    "    df = df = pd.read_csv(\"\".join((i[0],\"_Readability_and_CosineSimilarity_scores.csv\")))\n",
    "    analysis_set = df.sample(1000, random_state=11)\n",
    "    delim_subset = i[0]\n",
    "    \n",
    "    #Get Scatter Plot- Dale Chall diff vs Cosine Similarity\n",
    "    plt.scatter(analysis_set[\"DaleChallDiff\"], analysis_set[\"Cosine_similarity\"], c = i[1])\n",
    "    plt.xlabel(\"Dale-Chall Index Pairwise difference\")\n",
    "    plt.ylabel(\"Cosine Similarity\")\n",
    "    plt.title(\"Difference In Dale-Chall Index vs Cosine Similarity\")\n",
    "    plt.savefig(\"\".join((delim_subset,\"_DaleChall_vs_CosineSimilarity.png\")))\n",
    "    plt.show()\n",
    "    \n",
    "\n",
    "    #Get Scatter Plot- Dale Chall diff vs Flesch diff\n",
    "    plt.scatter(analysis_set[\"DaleChallDiff\"], analysis_set[\"Flesch_diff\"], c = i[1])\n",
    "    plt.xlabel(\"Dale-Chall Pairwise difference\")\n",
    "    plt.ylabel(\"Flesch Pairwise Difference\")\n",
    "    plt.title(\"Difference In Dale-Chall Index vs Difference in Flesch Reading Ease\")\n",
    "    plt.savefig(\"\".join((delim_subset,\"_DaleChall_vs_Flesch.png\")))\n",
    "    plt.show()\n",
    "    \n",
    "\n",
    "    #Get Scatter Plot- Flesch diff vs Cosine Similarity\n",
    "    plt.scatter(analysis_set[\"Flesch_diff\"], analysis_set[\"Cosine_similarity\"], c = i[1])\n",
    "    plt.xlabel(\"Flesch Pairwise difference\")\n",
    "    plt.ylabel(\"Cosine Similarity\")\n",
    "    plt.title(\"Difference In Flesch Reading Ease vs Cosine Similarity\")\n",
    "    plt.savefig(\"\".join((delim_subset,\"_Flesch_vs_CosineSimilarity.png\")))\n",
    "    plt.show()\n"
   ]
  },
  {
   "cell_type": "code",
   "execution_count": null,
   "metadata": {},
   "outputs": [],
   "source": [
    "#Summary Statistics- Readability\n",
    "dataframes = [] \n",
    "\n",
    "for i in [\"Rice\", \"Cream\", \"Pasta-Dinners\",\"Random\"]:\n",
    "    df = pd.read_csv(\"\".join((i,\"_FoodData_Central_Readability.csv\")))\n",
    "    df[\"Subset\"] = i\n",
    "    dataframes.append(df)\n",
    "print(dataframes)\n",
    "\n",
    "\n"
   ]
  },
  {
   "cell_type": "code",
   "execution_count": null,
   "metadata": {},
   "outputs": [],
   "source": [
    "#Summary Statistics- Pearson Correlations\n",
    "import pandas as pd\n",
    "from scipy.stats import pearsonr\n",
    "\n",
    "Pearson_list = []\n",
    "\n",
    "for i in [\"Rice\", \"Cream\", \"Pasta-Dinners\",\"Random\"]:\n",
    "    df = pd.read_csv(\"\".join((i,\"_Readability_and_CosineSimilarity_scores.csv\")))\n",
    "    DC_CS_pearson = pearsonr(df[\"DaleChallDiff\"], df[\"Cosine_similarity\"])\n",
    "    FL_CS_pearson = pearsonr(df[\"Flesch_diff\"], df[\"Cosine_similarity\"])\n",
    "    DC_FL_pearson = pearsonr(df[\"DaleChallDiff\"], df[\"Flesch_diff\"])\n",
    "    Pearson_corrs = [i,DC_CS_pearson, FL_CS_pearson, DC_FL_pearson]\n",
    "    Pearson_list.append(Pearson_corrs)\n",
    "Pearson_df = pd.DataFrame(data = Pearson_list, columns = [\"subset\", \"Pearson_DC_CS\", \"Pearson_FL_CS\", \"Pearson_DC_FL\"])\n",
    "Pearson_df.to_csv(\"Pearson_stats.csv\")\n",
    "print(Pearson_df)\n"
   ]
  },
  {
   "cell_type": "code",
   "execution_count": null,
   "metadata": {},
   "outputs": [],
   "source": [
    "combined_df = pd.concat([i for i in dataframes], ignore_index = True, sort = False)\n",
    "print(len(combined_df))"
   ]
  },
  {
   "cell_type": "code",
   "execution_count": null,
   "metadata": {},
   "outputs": [],
   "source": [
    "summary_stats = combined_df.groupby(\"Subset\")[\"DaleChallIndex\"].describe()\n",
    "print(summary_stats)\n",
    "summary_stats.to_csv(\"DaleChall_summarystats.csv\")\n",
    "\n",
    "summary_stats = combined_df.groupby(\"Subset\")[\"FleschReadingEase\"].describe()\n",
    "print(summary_stats)\n",
    "summary_stats.to_csv(\"Flesch_summarystats.csv\")"
   ]
  },
  {
   "cell_type": "markdown",
   "metadata": {},
   "source": [
    "# Readability Distance and Cosine Similarity Summary Stats"
   ]
  },
  {
   "cell_type": "code",
   "execution_count": null,
   "metadata": {},
   "outputs": [],
   "source": [
    "#Summary Statistics- Distance and Similarity\n",
    "dataframes = [] \n",
    "\n",
    "for i in [\"Rice\", \"Cream\", \"Pasta-Dinners\",\"Random\"]:\n",
    "    df = pd.read_csv(\"\".join((i,\"_Readability_and_CosineSimilarity_scores.csv\")))\n",
    "    df[\"Subset\"] = i\n",
    "    dataframes.append(df)\n",
    "print(dataframes)\n"
   ]
  },
  {
   "cell_type": "code",
   "execution_count": null,
   "metadata": {},
   "outputs": [],
   "source": [
    "combined_df = pd.concat([i for i in dataframes], ignore_index = True, sort = False)\n",
    "print(len(combined_df))"
   ]
  },
  {
   "cell_type": "code",
   "execution_count": null,
   "metadata": {},
   "outputs": [],
   "source": [
    "summary_stats = combined_df.groupby(\"Subset\")[\"DaleChallDiff\"].describe()\n",
    "print(summary_stats)\n",
    "summary_stats.to_csv(\"DaleChallDiff_summarystats.csv\")\n",
    "\n",
    "summary_stats = combined_df.groupby(\"Subset\")[\"Flesch_diff\"].describe()\n",
    "print(summary_stats)\n",
    "summary_stats.to_csv(\"FleschDiff_summarystats.csv\")\n",
    "\n",
    "summary_stats = combined_df.groupby(\"Subset\")[\"Cosine_similarity\"].describe()\n",
    "print(summary_stats)\n",
    "summary_stats.to_csv(\"CosineSimilarity_summarystats.csv\")"
   ]
  },
  {
   "cell_type": "code",
   "execution_count": null,
   "metadata": {
    "scrolled": true
   },
   "outputs": [],
   "source": [
    "#Z-test- Random sample\n",
    "from statsmodels.stats.weightstats import ztest as ztest\n",
    "import pandas as pd\n",
    "import sys\n",
    "\n",
    "#Import Food Data Central Food Products Database \n",
    "#dataset = pd.read_csv(\"FoodData_Central_Readability.csv\", low_memory = False)\n",
    "dataset = pd.read_csv(\"branded_food.csv\", low_memory = False)\n",
    "print(dataset.shape)\n",
    "data_random = pd.read_csv(\"Random_FoodData_Central_Readability.csv\", low_memory = False)\n",
    "print(len(dataset))\n",
    "\n",
    "zTest_data = data_random[\"FleschReadingEase\"].values.tolist()\n",
    "\n",
    "mean = dataset[\"FleschReadingEase\"].mean()\n",
    "mean2 = data_random[\"FleschReadingEase\"].mean()\n",
    "\n",
    "print(mean)\n",
    "print(mean2)\n",
    "\n",
    "print(\"Flesch Reading Ease Z Test\")\n",
    "print(ztest(zTest_data, value=mean))\n",
    "print()\n",
    "\n",
    "zTest_data = data_random[\"DaleChallIndex\"].values.tolist()\n",
    "\n",
    "mean = dataset[\"DaleChallIndex\"].mean()\n",
    "mean2 = data_random[\"DaleChallIndex\"].mean()\n",
    "\n",
    "print(mean)\n",
    "print(mean2)\n",
    "\n",
    "print(\"Dale Chall Index Z Test\")\n",
    "print(ztest(zTest_data, value=mean))"
   ]
  }
 ],
 "metadata": {
  "kernelspec": {
   "display_name": "Python 3",
   "language": "python",
   "name": "python3"
  },
  "language_info": {
   "codemirror_mode": {
    "name": "ipython",
    "version": 3
   },
   "file_extension": ".py",
   "mimetype": "text/x-python",
   "name": "python",
   "nbconvert_exporter": "python",
   "pygments_lexer": "ipython3",
   "version": "3.8.3"
  }
 },
 "nbformat": 4,
 "nbformat_minor": 4
}
