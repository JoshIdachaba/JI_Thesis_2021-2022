{
 "cells": [
  {
   "cell_type": "code",
   "execution_count": null,
   "metadata": {},
   "outputs": [],
   "source": [
    "#Packages Used\n",
    "import pandas as pd\n",
    "import numpy as np\n",
    "import matplotlib.pyplot as plt\n",
    "import readability\n",
    "import time\n",
    "from sklearn.feature_extraction.text import CountVectorizer, HashingVectorizer\n",
    "from sklearn.metrics.pairwise import cosine_similarity\n",
    "from scipy.stats import pearsonr\n",
    "import itertools\n",
    "from itertools import combinations,chain,product,permutations"
   ]
  },
  {
   "cell_type": "code",
   "execution_count": null,
   "metadata": {},
   "outputs": [],
   "source": [
    "#Import Food Data Central Food Products Database (500 record demo for now)\n",
    "FoodDataCentral = pd.read_csv(\"branded_food.csv\", low_memory = False)"
   ]
  },
  {
   "cell_type": "code",
   "execution_count": null,
   "metadata": {},
   "outputs": [],
   "source": [
    "#Generate list of branded food categories (Optional, used to choose branded food category for analysis)\n",
    "grouped_counts = pd.DataFrame(FoodDataCentral.groupby(['branded_food_category'])['branded_food_category'].count())\n",
    "grouped_counts.columns = [\"bfc_count\"]\n",
    "#print(grouped_counts.sort_values(by = \"bfc_count\", ascending = False)[40:60])"
   ]
  },
  {
   "cell_type": "code",
   "execution_count": null,
   "metadata": {},
   "outputs": [],
   "source": [
    "#Get Database subset by branded food category ('Rice' in this case) and remove rows with empty values or non-word values \n",
    "FoodDataCentral = FoodDataCentral.query(\"branded_food_category == 'Rice'\")\n",
    "FoodDataCentral = FoodDataCentral.dropna(subset = ['ingredients'])\n",
    "FoodDataCentral = FoodDataCentral[FoodDataCentral[\"ingredients\"] != \"---\"]\n",
    "FoodDataCentral = FoodDataCentral[FoodDataCentral[\"ingredients\"] != \",\"]"
   ]
  },
  {
   "cell_type": "code",
   "execution_count": null,
   "metadata": {},
   "outputs": [],
   "source": [
    "#Get Readability Scores- FoodData Central\n",
    "readability_scores = []\n",
    "for index, row in FoodDataCentral.iterrows():\n",
    "    #num_words = len(word_tokenize(row['ingredients']))\n",
    "    if pd.isna(row[\"ingredients\"]) or row[\"ingredients\"] in [\"---\"]:\n",
    "        curr_record = (row['fdc_id'], row['gtin_upc'], pd.NA,pd.NA)\n",
    "        readability_scores.append(curr_record)\n",
    "        \n",
    "    else:\n",
    "        \"\"\"Readability.getmeasures() automatically tokenizes the input by default and returns a set of readability measures. In this case,\n",
    "        we are getting a specific measure from the set (flesch-kincaid) \"\"\"\n",
    "        curr_record = (row['fdc_id'], row['gtin_upc'], row['branded_food_category'],readability.getmeasures(row[\"ingredients\"])['readability grades']['Kincaid'],\n",
    "                       readability.getmeasures(row[\"ingredients\"])['readability grades']['FleschReadingEase'],\n",
    "                       readability.getmeasures(row[\"ingredients\"])['readability grades']['DaleChallIndex'],\n",
    "                       readability.getmeasures(row[\"ingredients\"])['sentence info']['words'],\n",
    "                       readability.getmeasures(row[\"ingredients\"])['sentence info']['complex_words_dc'])\n",
    "        readability_scores.append(curr_record)\n",
    "        \n",
    "\n",
    "readScores_FDC = pd.DataFrame(data = readability_scores, columns = [\"fdc_id\", \"gtin_upc\",\"branded_food_category\",\n",
    "                                                                    \"Kincaid_Score\",\"FleschReadingEase\",\"DaleChallIndex\",\n",
    "                                                                    \"num_words\",\"complex_words_dc\"])\n",
    "\n",
    "readScores_FDC.to_csv(\"FoodData_Central_Readability.csv\", sep=\",\")\n",
    "for value in readScores_FDC.columns.values:\n",
    "    FoodDataCentral[value] = readScores_FDC[value]\n",
    "    "
   ]
  },
  {
   "cell_type": "code",
   "execution_count": null,
   "metadata": {},
   "outputs": [],
   "source": [
    "#Create Difference Matrix- Flesch\n",
    "difference_matrix_fl = [[y - x for x in FoodDataCentral[\"FleschReadingEase\"]] for y in FoodDataCentral[\"FleschReadingEase\"]]\n",
    "difference_matrix_fl = list(chain(*difference_matrix_fl))"
   ]
  },
  {
   "cell_type": "code",
   "execution_count": null,
   "metadata": {},
   "outputs": [],
   "source": [
    "#Create Difference Matrix- Dale-Chall\n",
    "difference_matrix_dc = [[y - x for x in FoodDataCentral[\"DaleChallIndex\"]] for y in FoodDataCentral[\"DaleChallIndex\"]]\n",
    "difference_matrix_dc = list(chain(*difference_matrix_dc))"
   ]
  },
  {
   "cell_type": "code",
   "execution_count": null,
   "metadata": {},
   "outputs": [],
   "source": [
    "#Convert FDC IDs from float to string\n",
    "FoodDataCentral[\"fdc_id\"] = FoodDataCentral[\"fdc_id\"].astype(\"str\")"
   ]
  },
  {
   "cell_type": "code",
   "execution_count": null,
   "metadata": {},
   "outputs": [],
   "source": [
    "#Get FDC indices for referencing matrices\n",
    "fdc_indices = dict(enumerate(FoodDataCentral[\"fdc_id\"]))"
   ]
  },
  {
   "cell_type": "code",
   "execution_count": null,
   "metadata": {},
   "outputs": [],
   "source": [
    "#Create list of FDC ID pairs (w/repeats)\n",
    "fdcID_pairs = list(itertools.product(FoodDataCentral[\"fdc_id\"],repeat=2))"
   ]
  },
  {
   "cell_type": "code",
   "execution_count": null,
   "metadata": {},
   "outputs": [],
   "source": [
    "#Gather list of ingredient lists\n",
    "documents = list(FoodDataCentral['ingredients'].values) \n",
    "\n",
    "#Create Model\n",
    "count_vectorizer = CountVectorizer(documents, stop_words='english')\n",
    "\n",
    "#Fit model to ingredient list\n",
    "count_vectorizer.fit(documents)"
   ]
  },
  {
   "cell_type": "code",
   "execution_count": null,
   "metadata": {},
   "outputs": [],
   "source": [
    "#Transform model to array\n",
    "documents_1 = list(FoodDataCentral['ingredients'].values) \n",
    "vectors = count_vectorizer.transform(documents_1).toarray()\n",
    "np.save(\"Vectors_Batch_3_test\",vectors)"
   ]
  },
  {
   "cell_type": "code",
   "execution_count": null,
   "metadata": {},
   "outputs": [],
   "source": [
    "#Calculate cosine similarity\n",
    "cos_sim = cosine_similarity(vectors)\n",
    "cos_sim_flat = list(cos_sim)\n",
    "cos_sim_flat = list(chain(*cos_sim_flat))\n",
    "cos_sim_flat = cos_sim_flat / np.linalg.norm(cos_sim_flat)"
   ]
  },
  {
   "cell_type": "code",
   "execution_count": null,
   "metadata": {},
   "outputs": [],
   "source": [
    "#Create Dataframe with readability differences and cosine similarities\n",
    "a = pd.DataFrame(fdcID_pairs, columns = [\"fdc_id 1\",\"FDC_id 2\"])\n",
    "a[\"DaleChallDiff\"] = difference_matrix_dc\n",
    "a[\"Cosine_similarity\"] = cos_sim_flat\n",
    "a[\"Flesch_diff\"] = difference_matrix_fl"
   ]
  },
  {
   "cell_type": "code",
   "execution_count": null,
   "metadata": {},
   "outputs": [],
   "source": [
    "#Data Preparation\n",
    "a.dropna(inplace=True)\n",
    "a.replace([np.inf, -np.inf], np.nan, inplace=True)\n",
    "a.dropna(inplace=True)\n",
    "a.to_csv(\"Readability_and_CosineSimilarity_scores.csv\")"
   ]
  },
  {
   "cell_type": "code",
   "execution_count": null,
   "metadata": {},
   "outputs": [],
   "source": [
    "#Plot Association- Dale Chall diff vs Cosine Similarity\n",
    "plt.scatter(a[\"DaleChallDiff\"], a[\"Cosine_similarity\"])\n",
    "plt.show()\n",
    "plt.savefig(\"DaleChall_vs_CosineSimilarity.png\")"
   ]
  },
  {
   "cell_type": "code",
   "execution_count": null,
   "metadata": {},
   "outputs": [],
   "source": [
    "#Scatter Plot- Dale Chall diff vs Flesch diff\n",
    "plt.scatter(a[\"DaleChallDiff\"], a[\"Flesch_diff\"])\n",
    "plt.show()\n",
    "plt.savefig(\"DaleChall_vs_Flesch.png\")"
   ]
  },
  {
   "cell_type": "code",
   "execution_count": null,
   "metadata": {},
   "outputs": [],
   "source": [
    "#Scatter Plot- Flesch diff vs Cosine Similarity\n",
    "plt.scatter(a[\"Flesch_diff\"], a[\"Cosine_similarity\"])\n",
    "plt.show()\n",
    "plt.savefig(\"Flesch_vs_CosineSimilarity.png\")"
   ]
  },
  {
   "cell_type": "code",
   "execution_count": null,
   "metadata": {},
   "outputs": [],
   "source": [
    "#Get Pearson Correlations\n",
    "print(pearsonr(a[\"DaleChallDiff\"], a[\"Cosine_similarity\"]))\n",
    "print(pearsonr(a[\"Flesch_diff\"], a[\"Cosine_similarity\"]))\n",
    "print(pearsonr(a[\"DaleChallDiff\"], a[\"Flesch_diff\"]))"
   ]
  }
 ],
 "metadata": {
  "kernelspec": {
   "display_name": "Python 3",
   "language": "python",
   "name": "python3"
  },
  "language_info": {
   "codemirror_mode": {
    "name": "ipython",
    "version": 3
   },
   "file_extension": ".py",
   "mimetype": "text/x-python",
   "name": "python",
   "nbconvert_exporter": "python",
   "pygments_lexer": "ipython3",
   "version": "3.8.3"
  }
 },
 "nbformat": 4,
 "nbformat_minor": 4
}
