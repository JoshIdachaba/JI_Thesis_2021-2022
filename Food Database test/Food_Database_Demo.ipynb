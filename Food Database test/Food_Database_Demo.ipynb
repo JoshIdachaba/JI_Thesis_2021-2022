{
 "cells": [
  {
   "cell_type": "code",
   "execution_count": null,
   "metadata": {},
   "outputs": [],
   "source": [
    "#Packages Used\n",
    "import pandas as pd\n",
    "import numpy as np\n",
    "import networkx as nx\n",
    "import matplotlib.pyplot as plt\n",
    "from nltk.tokenize import word_tokenize\n",
    "import readability"
   ]
  },
  {
   "cell_type": "markdown",
   "metadata": {},
   "source": [
    "## Import Datasets\n",
    "\n",
    "Datasets Used:\n",
    "\n",
    "- OpenFoodFacts Product Dataset (2,168,141 rows x 191 columns)\n",
    "\n",
    "- FoodDataCentral Branded Food Dataset (1,555,131 rows x 17 columns)\n",
    "\n",
    "At the moment, empty product names are being filled in as \"Unknown\" to confirm whether further analysis is possible. Future lookup, either via website or database parsing, is required to verify identity.\n",
    "\n",
    "- OpenFoodFacts Product Dataset (subset where country = United states) - 412,108 rows x 191 columns"
   ]
  },
  {
   "cell_type": "code",
   "execution_count": null,
   "metadata": {},
   "outputs": [],
   "source": [
    "OpenFoodFacts_Demo = pd.read_csv(\"OpenFoodFacts_Head_Demo.csv\")\n",
    "OpenFoodFacts_Demo.fillna({'product_name':\"Unknown\"}, inplace=True)\n",
    "for i in OpenFoodFacts_Demo.columns.values:\n",
    "    print(i)"
   ]
  },
  {
   "cell_type": "code",
   "execution_count": null,
   "metadata": {},
   "outputs": [],
   "source": [
    "print(OpenFoodFacts_Demo[\"brands\"])"
   ]
  },
  {
   "cell_type": "code",
   "execution_count": null,
   "metadata": {},
   "outputs": [],
   "source": [
    "FoodDataCentral_Demo = pd.read_csv(\"FoodDataCentral_Head_Demo.csv\")\n",
    "print(FoodDataCentral_Demo)"
   ]
  },
  {
   "cell_type": "code",
   "execution_count": null,
   "metadata": {},
   "outputs": [],
   "source": [
    "#Get Readability Scores- Open Food Facts\n",
    "readability_scores = []\n",
    "for index, row in OpenFoodFacts_Demo.iterrows():\n",
    "    if pd.isna(row[\"ingredients_text\"]) or row[\"ingredients_text\"] in ['🍎', \"...\"]:\n",
    "        curr_record = (row['product_name'], row['code'], pd.NA,pd.NA,pd.NA)\n",
    "        readability_scores.append(curr_record)\n",
    "        print([i for i in curr_record])\n",
    "    else:\n",
    "        \"\"\"Readability.getmeasures() automatically tokenizes the input by default and returns a set of readability measures. In this case,\n",
    "        we are getting a specific measure from the set (flesch-kincaid) \"\"\"\n",
    "        curr_record = (row['product_name'], row['code'], readability.getmeasures(row[\"ingredients_text\"])['readability grades']['Kincaid'], \n",
    "                       readability.getmeasures(row[\"ingredients_text\"])['readability grades']['FleschReadingEase'],\n",
    "                       readability.getmeasures(row[\"ingredients_text\"])['sentence info']['words'])\n",
    "        readability_scores.append(curr_record)\n",
    "        print([i for i in curr_record])\n",
    "\n",
    "\n",
    "readScores_OFF = pd.DataFrame(data = readability_scores, columns = [\"code\", \"product_name\", \"Kincaid_Score\",\"FleschReadingEase\",\"num_words\"])\n",
    "readScores_OFF.to_csv(\"OpenFoodFacts_Readability.csv\", sep=\",\")\n",
    "OpenFoodFacts_Demo['Flesch-Kincaid'] = readScores_OFF['Kincaid_Score']\n",
    "OpenFoodFacts_Demo['FleschReadingEase'] = readScores_OFF['FleschReadingEase']\n",
    "OpenFoodFacts_Demo['num_words'] = readScores_OFF['num_words']\n",
    "print(OpenFoodFacts_Demo)"
   ]
  },
  {
   "cell_type": "code",
   "execution_count": null,
   "metadata": {},
   "outputs": [],
   "source": [
    "print(FoodDataCentral_Demo['ingredients'][2])"
   ]
  },
  {
   "cell_type": "code",
   "execution_count": null,
   "metadata": {},
   "outputs": [],
   "source": [
    "print(OpenFoodFacts_Demo['ingredients_text'][1])"
   ]
  },
  {
   "cell_type": "code",
   "execution_count": null,
   "metadata": {},
   "outputs": [],
   "source": [
    "#Readability scores example\n",
    "\n",
    "readability.getmeasures(FoodDataCentral_Demo.loc[1]['ingredients'])"
   ]
  },
  {
   "cell_type": "code",
   "execution_count": null,
   "metadata": {},
   "outputs": [],
   "source": [
    "#Get Readability Scores- FoodData Central\n",
    "readability_scores = []\n",
    "for index, row in FoodDataCentral_Demo.iterrows():\n",
    "    num_words = len(word_tokenize(row['ingredients']))\n",
    "    if pd.isna(row[\"ingredients\"]) or row[\"ingredients\"] in [\"---\"]:\n",
    "        curr_record = (row['fdc_id'], row['gtin_upc'], pd.NA,pd.NA)\n",
    "        readability_scores.append(curr_record)\n",
    "        \n",
    "    else:\n",
    "        print(row['ingredients'])\n",
    "        \"\"\"Readability.getmeasures() automatically tokenizes the input by default and returns a set of readability measures. In this case,\n",
    "        we are getting a specific measure from the set (flesch-kincaid) \"\"\"\n",
    "        curr_record = (row['fdc_id'], row['gtin_upc'], row['branded_food_category'],readability.getmeasures(row[\"ingredients\"])['readability grades']['Kincaid'],\n",
    "                       readability.getmeasures(row[\"ingredients\"])['readability grades']['FleschReadingEase'],\n",
    "                       readability.getmeasures(row[\"ingredients\"])['sentence info']['words'])\n",
    "        readability_scores.append(curr_record)\n",
    "        \n",
    "\n",
    "readScores_FDC = pd.DataFrame(data = readability_scores, columns = [\"fdc_id\", \"gtin_upc\",\"branded_food_category\",\"Kincaid_Score\",\"FleschReadingEase\",\"num_words\"])\n",
    "print(readScores_FDC)\n",
    "readScores_FDC.to_csv(\"FoodData_Central_Readability.csv\", sep=\",\")\n",
    "FoodDataCentral_Demo['Flesch-Kincaid'] = readScores_FDC['Kincaid_Score']\n",
    "FoodDataCentral_Demo['FleschReadingEase'] = readScores_FDC['FleschReadingEase']\n",
    "FoodDataCentral_Demo['num_words'] = readScores_FDC['num_words']"
   ]
  },
  {
   "cell_type": "code",
   "execution_count": null,
   "metadata": {},
   "outputs": [],
   "source": [
    "#Plot Mean Readability by Category\n",
    "df = readScores_FDC.groupby(by=\"branded_food_category\").mean()\n",
    "print(df)\n",
    "plt.scatter(df[\"num_words\"], df['FleschReadingEase'])\n",
    "plt.show()"
   ]
  },
  {
   "cell_type": "code",
   "execution_count": null,
   "metadata": {},
   "outputs": [],
   "source": [
    "#Plot by Brand\n",
    "df = FoodDataCentral_Demo.groupby(by=\"brand_owner\").mean()\n",
    "print(df['FleschReadingEase'])\n",
    "plt.scatter(df[\"num_words\"], df['FleschReadingEase'])\n",
    "plt.show()"
   ]
  },
  {
   "cell_type": "code",
   "execution_count": null,
   "metadata": {},
   "outputs": [],
   "source": [
    "series = pd.notnull(OpenFoodFacts_Demo['brands'])\n",
    "df = OpenFoodFacts_Demo[series]\n",
    "\n",
    "df = df.groupby(by = 'brands').mean()\n",
    "print(df)\n",
    "plt.scatter(df[\"num_words\"], df['FleschReadingEase'])\n",
    "plt.show()"
   ]
  },
  {
   "cell_type": "code",
   "execution_count": null,
   "metadata": {},
   "outputs": [],
   "source": []
  },
  {
   "cell_type": "code",
   "execution_count": null,
   "metadata": {},
   "outputs": [],
   "source": []
  },
  {
   "cell_type": "code",
   "execution_count": null,
   "metadata": {},
   "outputs": [],
   "source": []
  },
  {
   "cell_type": "code",
   "execution_count": null,
   "metadata": {},
   "outputs": [],
   "source": []
  },
  {
   "cell_type": "code",
   "execution_count": null,
   "metadata": {},
   "outputs": [],
   "source": []
  }
 ],
 "metadata": {
  "kernelspec": {
   "display_name": "Python 3",
   "language": "python",
   "name": "python3"
  },
  "language_info": {
   "codemirror_mode": {
    "name": "ipython",
    "version": 3
   },
   "file_extension": ".py",
   "mimetype": "text/x-python",
   "name": "python",
   "nbconvert_exporter": "python",
   "pygments_lexer": "ipython3",
   "version": "3.8.3"
  }
 },
 "nbformat": 4,
 "nbformat_minor": 4
}
